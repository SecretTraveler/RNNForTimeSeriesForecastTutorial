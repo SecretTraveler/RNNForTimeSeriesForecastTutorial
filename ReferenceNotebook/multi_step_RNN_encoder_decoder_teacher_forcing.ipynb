{
 "cells": [
  {
   "cell_type": "markdown",
   "metadata": {},
   "source": [
    "# Multi step model (encoder-decoder with teacher forcing)\n",
    "\n",
    "In this notebook, we will demonstrate how to implement a RNN model to predict multiple time steps into the future using an encoder decoder. The decoder part of the model uses teacher forcing, a method by which the output of one time step is fed to the input of the next time step."
   ]
  },
  {
   "cell_type": "code",
   "execution_count": 1,
   "metadata": {},
   "outputs": [],
   "source": [
    "import os\n",
    "import warnings\n",
    "import matplotlib.pyplot as plt\n",
    "import numpy as np\n",
    "import pandas as pd\n",
    "import datetime as dt\n",
    "from collections import UserDict\n",
    "%matplotlib inline\n",
    "\n",
    "from common.utils import load_data, mape, TimeSeriesTensor, create_evaluation_df\n",
    "\n",
    "pd.options.display.float_format = '{:,.2f}'.format\n",
    "np.set_printoptions(precision=2)\n",
    "warnings.filterwarnings(\"ignore\")"
   ]
  },
  {
   "cell_type": "markdown",
   "metadata": {},
   "source": [
    "Load data into Pandas dataframe"
   ]
  },
  {
   "cell_type": "code",
   "execution_count": 2,
   "metadata": {},
   "outputs": [
    {
     "data": {
      "text/html": [
       "<div>\n",
       "<style scoped>\n",
       "    .dataframe tbody tr th:only-of-type {\n",
       "        vertical-align: middle;\n",
       "    }\n",
       "\n",
       "    .dataframe tbody tr th {\n",
       "        vertical-align: top;\n",
       "    }\n",
       "\n",
       "    .dataframe thead th {\n",
       "        text-align: right;\n",
       "    }\n",
       "</style>\n",
       "<table border=\"1\" class=\"dataframe\">\n",
       "  <thead>\n",
       "    <tr style=\"text-align: right;\">\n",
       "      <th></th>\n",
       "      <th>load</th>\n",
       "      <th>temp</th>\n",
       "    </tr>\n",
       "  </thead>\n",
       "  <tbody>\n",
       "    <tr>\n",
       "      <th>2012-01-01 00:00:00</th>\n",
       "      <td>2,698.00</td>\n",
       "      <td>32.00</td>\n",
       "    </tr>\n",
       "    <tr>\n",
       "      <th>2012-01-01 01:00:00</th>\n",
       "      <td>2,558.00</td>\n",
       "      <td>32.67</td>\n",
       "    </tr>\n",
       "    <tr>\n",
       "      <th>2012-01-01 02:00:00</th>\n",
       "      <td>2,444.00</td>\n",
       "      <td>30.00</td>\n",
       "    </tr>\n",
       "    <tr>\n",
       "      <th>2012-01-01 03:00:00</th>\n",
       "      <td>2,402.00</td>\n",
       "      <td>31.00</td>\n",
       "    </tr>\n",
       "    <tr>\n",
       "      <th>2012-01-01 04:00:00</th>\n",
       "      <td>2,403.00</td>\n",
       "      <td>32.00</td>\n",
       "    </tr>\n",
       "  </tbody>\n",
       "</table>\n",
       "</div>"
      ],
      "text/plain": [
       "                        load  temp\n",
       "2012-01-01 00:00:00 2,698.00 32.00\n",
       "2012-01-01 01:00:00 2,558.00 32.67\n",
       "2012-01-01 02:00:00 2,444.00 30.00\n",
       "2012-01-01 03:00:00 2,402.00 31.00\n",
       "2012-01-01 04:00:00 2,403.00 32.00"
      ]
     },
     "execution_count": 2,
     "metadata": {},
     "output_type": "execute_result"
    }
   ],
   "source": [
    "data_dir = '../data/'\n",
    "energy = load_data(data_dir)\n",
    "energy.head()"
   ]
  },
  {
   "cell_type": "code",
   "execution_count": 3,
   "metadata": {},
   "outputs": [],
   "source": [
    "valid_start_dt = '2014-09-01 00:00:00'\n",
    "test_start_dt = '2014-11-01 00:00:00'\n",
    "\n",
    "T = 6\n",
    "HORIZON = 3"
   ]
  },
  {
   "cell_type": "markdown",
   "metadata": {},
   "source": [
    "Create training set containing only the model features"
   ]
  },
  {
   "cell_type": "code",
   "execution_count": 4,
   "metadata": {},
   "outputs": [],
   "source": [
    "train = energy.copy()[energy.index < valid_start_dt][['load']]"
   ]
  },
  {
   "cell_type": "markdown",
   "metadata": {},
   "source": [
    "Scale data to be in range (0, 1). This transformation should be calibrated on the training set only. This is to prevent information from the validation or test sets leaking into the training data."
   ]
  },
  {
   "cell_type": "code",
   "execution_count": 5,
   "metadata": {},
   "outputs": [],
   "source": [
    "from sklearn.preprocessing import MinMaxScaler\n",
    "\n",
    "y_scaler = MinMaxScaler()\n",
    "y_scaler.fit(train[['load']])\n",
    "\n",
    "X_scaler = MinMaxScaler()\n",
    "train[['load']] = X_scaler.fit_transform(train)"
   ]
  },
  {
   "cell_type": "markdown",
   "metadata": {},
   "source": [
    "Use the TimeSeriesTensor convenience class to:\n",
    "1. Shift the values of the time series to create a Pandas dataframe containing all the data for a single training example\n",
    "2. Discard any samples with missing values\n",
    "3. Transform this Pandas dataframe into a numpy array of shape (samples, time steps, features) for input into Keras\n",
    "\n",
    "The class takes the following parameters:\n",
    "\n",
    "- **dataset**: original time series\n",
    "- **H**: the forecast horizon\n",
    "- **tensor_structure**: a dictionary discribing the tensor structure in the form { 'tensor_name' : (range(max_backward_shift, max_forward_shift), [feature, feature, ...] ) }\n",
    "- **freq**: time series frequency\n",
    "- **drop_incomplete**: (Boolean) whether to drop incomplete samples"
   ]
  },
  {
   "cell_type": "code",
   "execution_count": 6,
   "metadata": {},
   "outputs": [
    {
     "data": {
      "text/html": [
       "<div>\n",
       "<style scoped>\n",
       "    .dataframe tbody tr th:only-of-type {\n",
       "        vertical-align: middle;\n",
       "    }\n",
       "\n",
       "    .dataframe tbody tr th {\n",
       "        vertical-align: top;\n",
       "    }\n",
       "\n",
       "    .dataframe thead tr th {\n",
       "        text-align: left;\n",
       "    }\n",
       "</style>\n",
       "<table border=\"1\" class=\"dataframe\">\n",
       "  <thead>\n",
       "    <tr>\n",
       "      <th>tensor</th>\n",
       "      <th colspan=\"3\" halign=\"left\">target</th>\n",
       "      <th colspan=\"6\" halign=\"left\">encoder_input</th>\n",
       "      <th colspan=\"3\" halign=\"left\">decoder_input</th>\n",
       "    </tr>\n",
       "    <tr>\n",
       "      <th>feature</th>\n",
       "      <th colspan=\"3\" halign=\"left\">y</th>\n",
       "      <th colspan=\"6\" halign=\"left\">load</th>\n",
       "      <th colspan=\"3\" halign=\"left\">load</th>\n",
       "    </tr>\n",
       "    <tr>\n",
       "      <th>time step</th>\n",
       "      <th>t+1</th>\n",
       "      <th>t+2</th>\n",
       "      <th>t+3</th>\n",
       "      <th>t-5</th>\n",
       "      <th>t-4</th>\n",
       "      <th>t-3</th>\n",
       "      <th>t-2</th>\n",
       "      <th>t-1</th>\n",
       "      <th>t</th>\n",
       "      <th>t</th>\n",
       "      <th>t+1</th>\n",
       "      <th>t+2</th>\n",
       "    </tr>\n",
       "  </thead>\n",
       "  <tbody>\n",
       "    <tr>\n",
       "      <th>2012-01-01 05:00:00</th>\n",
       "      <td>0.18</td>\n",
       "      <td>0.23</td>\n",
       "      <td>0.29</td>\n",
       "      <td>0.22</td>\n",
       "      <td>0.18</td>\n",
       "      <td>0.14</td>\n",
       "      <td>0.13</td>\n",
       "      <td>0.13</td>\n",
       "      <td>0.15</td>\n",
       "      <td>0.15</td>\n",
       "      <td>0.18</td>\n",
       "      <td>0.23</td>\n",
       "    </tr>\n",
       "    <tr>\n",
       "      <th>2012-01-01 06:00:00</th>\n",
       "      <td>0.23</td>\n",
       "      <td>0.29</td>\n",
       "      <td>0.35</td>\n",
       "      <td>0.18</td>\n",
       "      <td>0.14</td>\n",
       "      <td>0.13</td>\n",
       "      <td>0.13</td>\n",
       "      <td>0.15</td>\n",
       "      <td>0.18</td>\n",
       "      <td>0.18</td>\n",
       "      <td>0.23</td>\n",
       "      <td>0.29</td>\n",
       "    </tr>\n",
       "    <tr>\n",
       "      <th>2012-01-01 07:00:00</th>\n",
       "      <td>0.29</td>\n",
       "      <td>0.35</td>\n",
       "      <td>0.37</td>\n",
       "      <td>0.14</td>\n",
       "      <td>0.13</td>\n",
       "      <td>0.13</td>\n",
       "      <td>0.15</td>\n",
       "      <td>0.18</td>\n",
       "      <td>0.23</td>\n",
       "      <td>0.23</td>\n",
       "      <td>0.29</td>\n",
       "      <td>0.35</td>\n",
       "    </tr>\n",
       "    <tr>\n",
       "      <th>2012-01-01 08:00:00</th>\n",
       "      <td>0.35</td>\n",
       "      <td>0.37</td>\n",
       "      <td>0.37</td>\n",
       "      <td>0.13</td>\n",
       "      <td>0.13</td>\n",
       "      <td>0.15</td>\n",
       "      <td>0.18</td>\n",
       "      <td>0.23</td>\n",
       "      <td>0.29</td>\n",
       "      <td>0.29</td>\n",
       "      <td>0.35</td>\n",
       "      <td>0.37</td>\n",
       "    </tr>\n",
       "    <tr>\n",
       "      <th>2012-01-01 09:00:00</th>\n",
       "      <td>0.37</td>\n",
       "      <td>0.37</td>\n",
       "      <td>0.37</td>\n",
       "      <td>0.13</td>\n",
       "      <td>0.15</td>\n",
       "      <td>0.18</td>\n",
       "      <td>0.23</td>\n",
       "      <td>0.29</td>\n",
       "      <td>0.35</td>\n",
       "      <td>0.35</td>\n",
       "      <td>0.37</td>\n",
       "      <td>0.37</td>\n",
       "    </tr>\n",
       "  </tbody>\n",
       "</table>\n",
       "</div>"
      ],
      "text/plain": [
       "tensor              target           encoder_input                           \\\n",
       "feature                  y                    load                            \n",
       "time step              t+1  t+2  t+3           t-5  t-4  t-3  t-2  t-1    t   \n",
       "2012-01-01 05:00:00   0.18 0.23 0.29          0.22 0.18 0.14 0.13 0.13 0.15   \n",
       "2012-01-01 06:00:00   0.23 0.29 0.35          0.18 0.14 0.13 0.13 0.15 0.18   \n",
       "2012-01-01 07:00:00   0.29 0.35 0.37          0.14 0.13 0.13 0.15 0.18 0.23   \n",
       "2012-01-01 08:00:00   0.35 0.37 0.37          0.13 0.13 0.15 0.18 0.23 0.29   \n",
       "2012-01-01 09:00:00   0.37 0.37 0.37          0.13 0.15 0.18 0.23 0.29 0.35   \n",
       "\n",
       "tensor              decoder_input            \n",
       "feature                      load            \n",
       "time step                       t  t+1  t+2  \n",
       "2012-01-01 05:00:00          0.15 0.18 0.23  \n",
       "2012-01-01 06:00:00          0.18 0.23 0.29  \n",
       "2012-01-01 07:00:00          0.23 0.29 0.35  \n",
       "2012-01-01 08:00:00          0.29 0.35 0.37  \n",
       "2012-01-01 09:00:00          0.35 0.37 0.37  "
      ]
     },
     "execution_count": 6,
     "metadata": {},
     "output_type": "execute_result"
    }
   ],
   "source": [
    "tensor_structure = {'encoder_input':(range(-T+1, 1), ['load']), 'decoder_input':(range(0, HORIZON), ['load'])}\n",
    "train_inputs = TimeSeriesTensor(train, 'load', HORIZON, tensor_structure)\n",
    "train_inputs.dataframe.head()"
   ]
  },
  {
   "cell_type": "code",
   "execution_count": 7,
   "metadata": {},
   "outputs": [],
   "source": [
    "look_back_dt = dt.datetime.strptime(valid_start_dt, '%Y-%m-%d %H:%M:%S') - dt.timedelta(hours=T-1)\n",
    "valid = energy.copy()[(energy.index >=look_back_dt) & (energy.index < test_start_dt)][['load']]\n",
    "valid[['load']] = X_scaler.transform(valid)\n",
    "valid_inputs = TimeSeriesTensor(valid, 'load', HORIZON, tensor_structure)"
   ]
  },
  {
   "cell_type": "markdown",
   "metadata": {},
   "source": [
    "## Implement training model"
   ]
  },
  {
   "cell_type": "markdown",
   "metadata": {},
   "source": [
    "We will implement a RNN forecasting model with the following structure:\n",
    "\n",
    "![Encoder-decoder RNN model with teacher forcing](./images/encoder_decoder_teacher_forcing.png \"Encoder-decoder RNN model with teacher forcing\")"
   ]
  },
  {
   "cell_type": "code",
   "execution_count": 8,
   "metadata": {},
   "outputs": [
    {
     "name": "stderr",
     "output_type": "stream",
     "text": [
      "Using TensorFlow backend.\n"
     ]
    }
   ],
   "source": [
    "from keras.models import Model, Sequential\n",
    "from keras.layers import GRU, Dense, RepeatVector, TimeDistributed, Flatten, Input\n",
    "from keras.callbacks import EarlyStopping"
   ]
  },
  {
   "cell_type": "code",
   "execution_count": 9,
   "metadata": {},
   "outputs": [],
   "source": [
    "BATCH_SIZE = 32\n",
    "LATENT_DIM = 5\n",
    "EPOCHS = 50"
   ]
  },
  {
   "cell_type": "code",
   "execution_count": 10,
   "metadata": {},
   "outputs": [],
   "source": [
    "# define training encoder\n",
    "encoder_input = Input(shape=(None, 1))\n",
    "encoder = GRU(LATENT_DIM, return_state=True)\n",
    "encoder_output, state_h = encoder(encoder_input)\n",
    "encoder_states = [state_h]\n",
    "\n",
    "# define training decoder\n",
    "decoder_input = Input(shape=(None, 1))\n",
    "decoder_GRU = GRU(LATENT_DIM, return_state=True, return_sequences=True)\n",
    "decoder_output, _ = decoder_GRU(decoder_input, initial_state=encoder_states)\n",
    "decoder_dense = TimeDistributed(Dense(1))\n",
    "decoder_output = decoder_dense(decoder_output)\n",
    "\n",
    "model = Model([encoder_input, decoder_input], decoder_output)"
   ]
  },
  {
   "cell_type": "code",
   "execution_count": 11,
   "metadata": {},
   "outputs": [],
   "source": [
    "model.compile(optimizer='RMSprop', loss='mse')"
   ]
  },
  {
   "cell_type": "code",
   "execution_count": 12,
   "metadata": {},
   "outputs": [],
   "source": [
    "earlystop = EarlyStopping(monitor='val_loss', min_delta=0, patience=5)"
   ]
  },
  {
   "cell_type": "code",
   "execution_count": 13,
   "metadata": {},
   "outputs": [],
   "source": [
    "train_target = train_inputs['target'].reshape(train_inputs['target'].shape[0], train_inputs['target'].shape[1], 1)\n",
    "valid_target = valid_inputs['target'].reshape(valid_inputs['target'].shape[0], valid_inputs['target'].shape[1], 1)"
   ]
  },
  {
   "cell_type": "code",
   "execution_count": 14,
   "metadata": {},
   "outputs": [
    {
     "name": "stdout",
     "output_type": "stream",
     "text": [
      "Train on 23368 samples, validate on 1461 samples\n",
      "Epoch 1/50\n",
      "23368/23368 [==============================] - 10s 449us/step - loss: 0.0297 - val_loss: 0.0035\n",
      "Epoch 2/50\n",
      "23368/23368 [==============================] - 9s 368us/step - loss: 0.0027 - val_loss: 0.0019\n",
      "Epoch 3/50\n",
      "23368/23368 [==============================] - 9s 365us/step - loss: 0.0016 - val_loss: 0.0012\n",
      "Epoch 4/50\n",
      "23368/23368 [==============================] - 9s 366us/step - loss: 0.0011 - val_loss: 9.0939e-04\n",
      "Epoch 5/50\n",
      "23368/23368 [==============================] - 9s 368us/step - loss: 9.2773e-04 - val_loss: 0.0013\n",
      "Epoch 6/50\n",
      "23368/23368 [==============================] - 9s 368us/step - loss: 7.9834e-04 - val_loss: 7.2329e-04\n",
      "Epoch 7/50\n",
      "23368/23368 [==============================] - 8s 363us/step - loss: 7.0220e-04 - val_loss: 6.3500e-04\n",
      "Epoch 8/50\n",
      "23368/23368 [==============================] - 9s 372us/step - loss: 6.4293e-04 - val_loss: 7.4725e-04\n",
      "Epoch 9/50\n",
      "23368/23368 [==============================] - 8s 363us/step - loss: 6.1010e-04 - val_loss: 5.4021e-04\n",
      "Epoch 10/50\n",
      "23368/23368 [==============================] - 9s 371us/step - loss: 5.8433e-04 - val_loss: 5.1534e-04\n",
      "Epoch 11/50\n",
      "23368/23368 [==============================] - 9s 369us/step - loss: 5.6682e-04 - val_loss: 5.7267e-04\n",
      "Epoch 12/50\n",
      "23368/23368 [==============================] - 9s 368us/step - loss: 5.6074e-04 - val_loss: 5.6821e-04\n",
      "Epoch 13/50\n",
      "23368/23368 [==============================] - 10s 415us/step - loss: 5.5580e-04 - val_loss: 6.0362e-04\n",
      "Epoch 14/50\n",
      "23368/23368 [==============================] - 9s 367us/step - loss: 5.5167e-04 - val_loss: 5.6610e-04\n",
      "Epoch 15/50\n",
      "23368/23368 [==============================] - 9s 375us/step - loss: 5.4806e-04 - val_loss: 5.3925e-04\n"
     ]
    },
    {
     "data": {
      "text/plain": [
       "<keras.callbacks.History at 0x1a2e6b7e1d0>"
      ]
     },
     "execution_count": 14,
     "metadata": {},
     "output_type": "execute_result"
    }
   ],
   "source": [
    "model.fit([train_inputs['encoder_input'], train_inputs['decoder_input']],\n",
    "          train_target,\n",
    "          batch_size=BATCH_SIZE,\n",
    "          epochs=EPOCHS,\n",
    "          validation_data=([valid_inputs['encoder_input'], valid_inputs['decoder_input']], valid_target),\n",
    "          callbacks=[earlystop],\n",
    "          verbose=1)"
   ]
  },
  {
   "cell_type": "markdown",
   "metadata": {},
   "source": [
    "## Implement inference model"
   ]
  },
  {
   "cell_type": "code",
   "execution_count": 15,
   "metadata": {},
   "outputs": [],
   "source": [
    "# build ingerence encoder model\n",
    "encoder_model = Model(encoder_input, encoder_states)\n",
    "\n",
    "# build ingerence decoder model\n",
    "decoder_state_input_h = Input(shape=(LATENT_DIM,))\n",
    "decoder_states_input = [decoder_state_input_h]\n",
    "\n",
    "decoder_output, state_h = decoder_GRU(decoder_input, initial_state=decoder_states_input)\n",
    "decoder_states = [state_h]\n",
    "decoder_output = decoder_dense(decoder_output)\n",
    "decoder_model = Model([decoder_input] + decoder_states_input, [decoder_output] + decoder_states)"
   ]
  },
  {
   "cell_type": "code",
   "execution_count": 16,
   "metadata": {},
   "outputs": [],
   "source": [
    "# Define the funtion to make single sequence prediction \n",
    "# based on scoring encoder-decoder\n",
    "def predict_single_sequence(single_input_seq, horizon, n_features):\n",
    "    # apply encoder model to the input_seq to get state\n",
    "    states_value = encoder_model.predict(single_input_seq)\n",
    "    \n",
    "    # get input for decoder's first time step (which is encoder input at time t)\n",
    "    dec_input = np.zeros((1, 1, n_features))\n",
    "    dec_input[0, 0, 0] = single_input_seq[0, -1, :]\n",
    "    \n",
    "    # create final output placeholder\n",
    "    output = list()\n",
    "    # collect predictions\n",
    "    for t in range(horizon):\n",
    "        # predict next value\n",
    "        yhat, h = decoder_model.predict([dec_input] + [states_value])\n",
    "        # store prediction\n",
    "        output.append(yhat[0,0,:])\n",
    "        # update state\n",
    "        state = [h]\n",
    "        # update decoder input to be used as input for next prediction\n",
    "        dec_input[0, 0, 0] = yhat\n",
    "        \n",
    "    return np.array(output)"
   ]
  },
  {
   "cell_type": "code",
   "execution_count": 17,
   "metadata": {},
   "outputs": [
    {
     "name": "stdout",
     "output_type": "stream",
     "text": [
      "[[0.24]\n",
      " [0.18]\n",
      " [0.04]]\n"
     ]
    }
   ],
   "source": [
    "# example of single sequence prediction\n",
    "print(predict_single_sequence(valid_inputs['encoder_input'][0:1], HORIZON, 1))"
   ]
  },
  {
   "cell_type": "code",
   "execution_count": 18,
   "metadata": {},
   "outputs": [],
   "source": [
    "# Define the funtion to make multiple sequence prediction \n",
    "# based on scoring encoder-decoder\n",
    "def predict_multi_sequence(input_seq_multi, horizon, n_features):\n",
    "    # create output placeholder\n",
    "    predictions_all = list()\n",
    "    for seq_index in range(input_seq_multi.shape[0]):       \n",
    "        # Take one sequence for decoding\n",
    "        input_seq = input_seq_multi[seq_index: seq_index + 1]\n",
    "        # Generate prediction for the single sequence\n",
    "        predictions = predict_single_sequence(input_seq, horizon, n_features)\n",
    "        # store all the sequence prediction\n",
    "        predictions_all.append(predictions)\n",
    "        \n",
    "    return np.array(predictions_all)"
   ]
  },
  {
   "cell_type": "markdown",
   "metadata": {},
   "source": [
    "## Evaluate the model"
   ]
  },
  {
   "cell_type": "code",
   "execution_count": 19,
   "metadata": {},
   "outputs": [],
   "source": [
    "look_back_dt = dt.datetime.strptime(test_start_dt, '%Y-%m-%d %H:%M:%S') - dt.timedelta(hours=T-1)\n",
    "test = energy.copy()[test_start_dt:][['load']]\n",
    "test[['load']] = y_scaler.transform(test)\n",
    "test_inputs = TimeSeriesTensor(test, 'load', HORIZON, tensor_structure)"
   ]
  },
  {
   "cell_type": "code",
   "execution_count": 20,
   "metadata": {},
   "outputs": [
    {
     "data": {
      "text/plain": [
       "(1456, 3, 1)"
      ]
     },
     "execution_count": 20,
     "metadata": {},
     "output_type": "execute_result"
    }
   ],
   "source": [
    "# example of multiple sequence prediction based on validation data\n",
    "test_predictions_all = predict_multi_sequence(test_inputs['encoder_input'], HORIZON, 1)\n",
    "test_predictions_all.shape"
   ]
  },
  {
   "cell_type": "code",
   "execution_count": 21,
   "metadata": {},
   "outputs": [
    {
     "data": {
      "text/plain": [
       "(1456, 3)"
      ]
     },
     "execution_count": 21,
     "metadata": {},
     "output_type": "execute_result"
    }
   ],
   "source": [
    "test_predictions_all_eval = test_predictions_all.reshape(test_predictions_all.shape[0], test_predictions_all.shape[1])\n",
    "test_predictions_all_eval.shape"
   ]
  },
  {
   "cell_type": "code",
   "execution_count": 22,
   "metadata": {},
   "outputs": [
    {
     "data": {
      "text/html": [
       "<div>\n",
       "<style scoped>\n",
       "    .dataframe tbody tr th:only-of-type {\n",
       "        vertical-align: middle;\n",
       "    }\n",
       "\n",
       "    .dataframe tbody tr th {\n",
       "        vertical-align: top;\n",
       "    }\n",
       "\n",
       "    .dataframe thead th {\n",
       "        text-align: right;\n",
       "    }\n",
       "</style>\n",
       "<table border=\"1\" class=\"dataframe\">\n",
       "  <thead>\n",
       "    <tr style=\"text-align: right;\">\n",
       "      <th></th>\n",
       "      <th>timestamp</th>\n",
       "      <th>h</th>\n",
       "      <th>prediction</th>\n",
       "      <th>actual</th>\n",
       "    </tr>\n",
       "  </thead>\n",
       "  <tbody>\n",
       "    <tr>\n",
       "      <th>0</th>\n",
       "      <td>2014-11-01 05:00:00</td>\n",
       "      <td>t+1</td>\n",
       "      <td>2,719.88</td>\n",
       "      <td>2,714.00</td>\n",
       "    </tr>\n",
       "    <tr>\n",
       "      <th>1</th>\n",
       "      <td>2014-11-01 06:00:00</td>\n",
       "      <td>t+1</td>\n",
       "      <td>2,994.28</td>\n",
       "      <td>2,970.00</td>\n",
       "    </tr>\n",
       "    <tr>\n",
       "      <th>2</th>\n",
       "      <td>2014-11-01 07:00:00</td>\n",
       "      <td>t+1</td>\n",
       "      <td>3,249.97</td>\n",
       "      <td>3,189.00</td>\n",
       "    </tr>\n",
       "    <tr>\n",
       "      <th>3</th>\n",
       "      <td>2014-11-01 08:00:00</td>\n",
       "      <td>t+1</td>\n",
       "      <td>3,361.01</td>\n",
       "      <td>3,356.00</td>\n",
       "    </tr>\n",
       "    <tr>\n",
       "      <th>4</th>\n",
       "      <td>2014-11-01 09:00:00</td>\n",
       "      <td>t+1</td>\n",
       "      <td>3,487.43</td>\n",
       "      <td>3,436.00</td>\n",
       "    </tr>\n",
       "  </tbody>\n",
       "</table>\n",
       "</div>"
      ],
      "text/plain": [
       "            timestamp    h  prediction   actual\n",
       "0 2014-11-01 05:00:00  t+1    2,719.88 2,714.00\n",
       "1 2014-11-01 06:00:00  t+1    2,994.28 2,970.00\n",
       "2 2014-11-01 07:00:00  t+1    3,249.97 3,189.00\n",
       "3 2014-11-01 08:00:00  t+1    3,361.01 3,356.00\n",
       "4 2014-11-01 09:00:00  t+1    3,487.43 3,436.00"
      ]
     },
     "execution_count": 22,
     "metadata": {},
     "output_type": "execute_result"
    }
   ],
   "source": [
    "eval_df = create_evaluation_df(test_predictions_all_eval, test_inputs, HORIZON, y_scaler)\n",
    "eval_df.head()"
   ]
  },
  {
   "cell_type": "code",
   "execution_count": 23,
   "metadata": {},
   "outputs": [
    {
     "data": {
      "text/plain": [
       "h\n",
       "t+1   0.02\n",
       "t+2   0.05\n",
       "t+3   0.15\n",
       "Name: APE, dtype: float64"
      ]
     },
     "execution_count": 23,
     "metadata": {},
     "output_type": "execute_result"
    }
   ],
   "source": [
    "eval_df['APE'] = (eval_df['prediction'] - eval_df['actual']).abs() / eval_df['actual']\n",
    "eval_df.groupby('h')['APE'].mean()"
   ]
  },
  {
   "cell_type": "code",
   "execution_count": 24,
   "metadata": {},
   "outputs": [
    {
     "data": {
      "text/plain": [
       "0.07201267328708377"
      ]
     },
     "execution_count": 24,
     "metadata": {},
     "output_type": "execute_result"
    }
   ],
   "source": [
    "mape(eval_df['prediction'], eval_df['actual'])"
   ]
  },
  {
   "cell_type": "code",
   "execution_count": 25,
   "metadata": {},
   "outputs": [
    {
     "data": {
      "image/png": "[encoded data removed]",
      "text/plain": [
       "<matplotlib.figure.Figure at 0x1a2f3429dd8>"
      ]
     },
     "metadata": {},
     "output_type": "display_data"
    }
   ],
   "source": [
    "plot_df = eval_df[(eval_df.timestamp<'2014-11-08') & (eval_df.h=='t+1')][['timestamp', 'actual']]\n",
    "for t in range(1, HORIZON+1):\n",
    "    plot_df['t+'+str(t)] = eval_df[(eval_df.timestamp<'2014-11-08') & (eval_df.h=='t+'+str(t))]['prediction'].values\n",
    "\n",
    "fig = plt.figure(figsize=(15, 8))\n",
    "ax = plt.plot(plot_df['timestamp'], plot_df['actual'], color='red', linewidth=4.0)\n",
    "ax = fig.add_subplot(111)\n",
    "ax.plot(plot_df['timestamp'], plot_df['t+1'], color='blue', linewidth=4.0, alpha=0.75)\n",
    "ax.plot(plot_df['timestamp'], plot_df['t+2'], color='blue', linewidth=3.0, alpha=0.5)\n",
    "ax.plot(plot_df['timestamp'], plot_df['t+3'], color='blue', linewidth=2.0, alpha=0.25)\n",
    "plt.xlabel('timestamp', fontsize=12)\n",
    "plt.ylabel('load', fontsize=12)\n",
    "ax.legend(loc='best')\n",
    "plt.show()"
   ]
  },
  {
   "cell_type": "code",
   "execution_count": null,
   "metadata": {},
   "outputs": [],
   "source": []
  }
 ],
 "metadata": {
  "kernelspec": {
   "display_name": "Python [default]",
   "language": "python",
   "name": "python3"
  },
  "language_info": {
   "codemirror_mode": {
    "name": "ipython",
    "version": 3
   },
   "file_extension": ".py",
   "mimetype": "text/x-python",
   "name": "python",
   "nbconvert_exporter": "python",
   "pygments_lexer": "ipython3",
   "version": "3.6.4"
  }
 },
 "nbformat": 4,
 "nbformat_minor": 2
}
